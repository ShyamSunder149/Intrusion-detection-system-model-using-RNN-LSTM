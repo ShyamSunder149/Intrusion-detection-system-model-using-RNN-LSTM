{
  "nbformat": 4,
  "nbformat_minor": 0,
  "metadata": {
    "colab": {
      "provenance": []
    },
    "kernelspec": {
      "name": "python3",
      "display_name": "Python 3"
    },
    "language_info": {
      "name": "python"
    }
  },
  "cells": [
    {
      "cell_type": "code",
      "execution_count": null,
      "metadata": {
        "id": "Yvi0Fo8jFzWe"
      },
      "outputs": [],
      "source": [
        "import pandas as pd\n",
        "import numpy as np \n",
        "import plotly as pl"
      ]
    },
    {
      "cell_type": "code",
      "source": [
        "from tensorflow.keras.layers import TextVectorization, Embedding, Bidirectional, Dense, LSTM\n",
        "from tensorflow.keras import Sequential"
      ],
      "metadata": {
        "id": "EtNSj1GtGOhT"
      },
      "execution_count": null,
      "outputs": []
    },
    {
      "cell_type": "code",
      "source": [
        "with open(\"examplemutantpayloads.csv\", \"r\", encoding=\"latin1\") as file:\n",
        "    raw_data = file.read()"
      ],
      "metadata": {
        "id": "ahVthdIsZoba"
      },
      "execution_count": null,
      "outputs": []
    },
    {
      "cell_type": "code",
      "source": [],
      "metadata": {
        "id": "ZpTn6Lbcpe_r"
      },
      "execution_count": null,
      "outputs": []
    },
    {
      "cell_type": "code",
      "source": [
        "exploits = ['aix/ppc/shell_find_port', 'aix/ppc/shell_interact', 'aix/ppc/shell_reverse_tcp', 'android/meterpreter/reverse_http', 'aix/ppc/shell_bind_tcp_small', 'aix/ppc/shell_find_port', 'aix/ppc/shell_interact', 'aix/ppc/shell_reverse_tcp', 'android/meterpreter/reverse_http']"
      ],
      "metadata": {
        "id": "IVpoaMpAZr8V"
      },
      "execution_count": null,
      "outputs": []
    },
    {
      "cell_type": "code",
      "source": [
        "data = []\n",
        "for i in range(len(exploits)-1):\n",
        "    data.append(raw_data[raw_data.index(exploits[i]): raw_data.index(exploits[i+1])])\n",
        "\n",
        "data = [tuple(i.split(\",\")) + (\"\",) for i in data]\n",
        "Y = np.random.randint(0, 2, (len(data), 2))"
      ],
      "metadata": {
        "id": "2g0O96SVadqq"
      },
      "execution_count": null,
      "outputs": []
    },
    {
      "cell_type": "code",
      "source": [
        "Y, Y.shape, Y.dtype"
      ],
      "metadata": {
        "colab": {
          "base_uri": "https://localhost:8080/"
        },
        "id": "ibsQI7UWdz5U",
        "outputId": "1b07158e-7d07-4f66-a76b-8834853bae19"
      },
      "execution_count": null,
      "outputs": [
        {
          "output_type": "execute_result",
          "data": {
            "text/plain": [
              "(array([[0, 1],\n",
              "        [0, 0],\n",
              "        [0, 1],\n",
              "        [0, 0],\n",
              "        [1, 0],\n",
              "        [1, 1],\n",
              "        [0, 0],\n",
              "        [0, 0]]), (8, 2), dtype('int64'))"
            ]
          },
          "metadata": {},
          "execution_count": 56
        }
      ]
    },
    {
      "cell_type": "code",
      "source": [
        "len(set([i for a in data for i in a[1]]))"
      ],
      "metadata": {
        "colab": {
          "base_uri": "https://localhost:8080/"
        },
        "id": "oOgLwMN1b6i_",
        "outputId": "05e1a0b4-822c-473d-c9fb-f5bcd044a031"
      },
      "execution_count": null,
      "outputs": [
        {
          "output_type": "execute_result",
          "data": {
            "text/plain": [
              "200"
            ]
          },
          "metadata": {},
          "execution_count": 45
        }
      ]
    },
    {
      "cell_type": "code",
      "source": [
        "VOCAB_SIZE = 1000\n",
        "encoder = TextVectorization(\n",
        "    max_tokens=VOCAB_SIZE)"
      ],
      "metadata": {
        "id": "V8ihOunlGr6_"
      },
      "execution_count": null,
      "outputs": []
    },
    {
      "cell_type": "code",
      "source": [],
      "metadata": {
        "id": "xKI4MkE-Znih"
      },
      "execution_count": null,
      "outputs": []
    },
    {
      "cell_type": "markdown",
      "source": [
        "Normalize and tokenize the payloads"
      ],
      "metadata": {
        "id": "z-CutgLKH0U8"
      }
    },
    {
      "cell_type": "code",
      "source": [
        "train_dataset = [i[1] for i in data]\n",
        "encoder.adapt(train_dataset)"
      ],
      "metadata": {
        "id": "8wz9ik9mHe0i"
      },
      "execution_count": null,
      "outputs": []
    },
    {
      "cell_type": "markdown",
      "source": [
        "Get vocabulary"
      ],
      "metadata": {
        "id": "AGebekGkHobQ"
      }
    },
    {
      "cell_type": "code",
      "source": [
        "vocab = np.array(encoder.get_vocabulary())\n",
        "vocab[:20]"
      ],
      "metadata": {
        "id": "ryMUDu3YHgb2",
        "outputId": "4ebbd72c-e73f-4536-fe42-ef2b03b6237e",
        "colab": {
          "base_uri": "https://localhost:8080/"
        }
      },
      "execution_count": null,
      "outputs": [
        {
          "output_type": "execute_result",
          "data": {
            "text/plain": [
              "array(['', '[UNK]', 'øk\\x87\\x93ö\\x11ú\\x00\\x85\\x89\\x07',\n",
              "       'ëÚ\\x08o\\x9a\\x89·¿×a¸öÔ\\x08\\x899»ëywì\\x88êÏ',\n",
              "       'ÚÑ½\\x8a3©\\x02Ùtôz1É±4\\x83Â\\x041j\\x13\\x03à',\n",
              "       'ÚÊ¸\\x076¼Ùtô3É±\\x0f1c\\x17\\x83Ã\\x04\\x03dÔi6ç2Ë\\x86e½Öy\\x82\\x8f¾\\xaddïø¸çÀo¹è\\xa0\\x0f¹\\x19ppº\\x0eØðº',\n",
              "       '½ª\\x85ÇÛÈÙtô3É±8\\x83ëü1k\\x0e\\x034¤g2µg\\x9dÄ',\n",
              "       '¸s\\x0fåÐvÛ\\x9drýùÕ\\x1e\\x06\\xad\\x11¼\\x03Ý\\x1e÷÷d®\\x87ü©\\x19±\\x03va\\x04ÙäÑ\\x07aeÚ\\x05\\x1eapÛicòÖ²ËºÙô\\x7f\\x1bÚ',\n",
              "       '±º0\\x08w',\n",
              "       '¦\\x03Æ¬v\\x07\\x94\\x12¢\\x80\\x16l\\x08\\x89sbjq§ã\\x89z¶ìÖg\\x10wácmØmpöy\\x8d\\x8c\\x7f\\x9d',\n",
              "       '\\x9dÊöò\\x933Ýdx\\x98Ç\\x01vf³\\x08m¾\\x07ÏüÓ0\\x02à\\x10û',\n",
              "       '\\x8bt¢ghó\\x12økÚ\\x91¤rãf\\x0e\\x8b\\x18\\xa0µ«\\x8bðk´Ëv³\\x8atª\\x88õ\\x92ñ÷\\x11\\x9dÀ',\n",
              "       'k÷\\x88ã¡\\x810nj\\x8cÏ¦·É\\x14é¹êqËd1Ú»\\x9cj¸À\\x8dÄ9±èÌ3ã\\x019pû\\x84úpûqÇ'],\n",
              "      dtype='<U57')"
            ]
          },
          "metadata": {},
          "execution_count": 61
        }
      ]
    },
    {
      "cell_type": "markdown",
      "source": [
        "Generate a RNN-LSTM Model to classify the payloads"
      ],
      "metadata": {
        "id": "Lmf0mPEcIDbI"
      }
    },
    {
      "cell_type": "code",
      "source": [
        "model = Sequential([\n",
        "    encoder,\n",
        "    Embedding(\n",
        "        input_dim=len(encoder.get_vocabulary()),\n",
        "        output_dim=64,\n",
        "        mask_zero=True), # mask for variable length sequence\n",
        "    Bidirectional(LSTM(64)),\n",
        "    Dense(64, activation='relu'), # Rectified Linear Activation\n",
        "    Dense(2)\n",
        "])\n"
      ],
      "metadata": {
        "id": "tMkfiHpEICo0"
      },
      "execution_count": null,
      "outputs": []
    },
    {
      "cell_type": "code",
      "source": [
        "model.compile(\"adam\", loss=\"binary_crossentropy\", metrics=['accuracy'] )"
      ],
      "metadata": {
        "id": "EHdPULHyca2I"
      },
      "execution_count": null,
      "outputs": []
    },
    {
      "cell_type": "code",
      "source": [
        "model.fit(np.asarray(train_dataset), Y, epochs=1, verbose=1, )"
      ],
      "metadata": {
        "colab": {
          "base_uri": "https://localhost:8080/"
        },
        "id": "aJ4eDr-Acdp5",
        "outputId": "b7b07a06-47ce-4d18-9134-7d76eaafdace"
      },
      "execution_count": null,
      "outputs": [
        {
          "output_type": "stream",
          "name": "stdout",
          "text": [
            "1/1 [==============================] - 8s 8s/step - loss: 3.8567 - accuracy: 0.7500\n"
          ]
        },
        {
          "output_type": "execute_result",
          "data": {
            "text/plain": [
              "<keras.callbacks.History at 0x7fc35db969d0>"
            ]
          },
          "metadata": {},
          "execution_count": 72
        }
      ]
    }
  ]
}